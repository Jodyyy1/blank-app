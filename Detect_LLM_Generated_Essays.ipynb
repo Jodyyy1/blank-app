{
  "metadata": {
    "kernelspec": {
      "language": "python",
      "display_name": "Python 3",
      "name": "python3"
    },
    "language_info": {
      "name": "python",
      "version": "3.10.12",
      "mimetype": "text/x-python",
      "codemirror_mode": {
        "name": "ipython",
        "version": 3
      },
      "pygments_lexer": "ipython3",
      "nbconvert_exporter": "python",
      "file_extension": ".py"
    },
    "kaggle": {
      "accelerator": "none",
      "dataSources": [
        {
          "sourceId": 61542,
          "databundleVersionId": 7516023,
          "sourceType": "competition"
        },
        {
          "sourceId": 6847931,
          "sourceType": "datasetVersion",
          "datasetId": 3936750
        },
        {
          "sourceId": 6867914,
          "sourceType": "datasetVersion",
          "datasetId": 3946973
        },
        {
          "sourceId": 6868189,
          "sourceType": "datasetVersion",
          "datasetId": 3937441
        },
        {
          "sourceId": 6888403,
          "sourceType": "datasetVersion",
          "datasetId": 3955358
        },
        {
          "sourceId": 6890527,
          "sourceType": "datasetVersion",
          "datasetId": 3942644
        },
        {
          "sourceId": 6920799,
          "sourceType": "datasetVersion",
          "datasetId": 3973977
        },
        {
          "sourceId": 6971638,
          "sourceType": "datasetVersion",
          "datasetId": 3961875
        },
        {
          "sourceId": 6977472,
          "sourceType": "datasetVersion",
          "datasetId": 4005256
        },
        {
          "sourceId": 7017419,
          "sourceType": "datasetVersion",
          "datasetId": 3937250
        },
        {
          "sourceId": 7060310,
          "sourceType": "datasetVersion",
          "datasetId": 3944051
        }
      ],
      "dockerImageVersionId": 30587,
      "isInternetEnabled": false,
      "language": "python",
      "sourceType": "notebook",
      "isGpuEnabled": false
    },
    "colab": {
      "provenance": [],
      "include_colab_link": true
    }
  },
  "nbformat_minor": 0,
  "nbformat": 4,
  "cells": [
    {
      "cell_type": "markdown",
      "metadata": {
        "id": "view-in-github",
        "colab_type": "text"
      },
      "source": [
        "<a href=\"https://colab.research.google.com/github/Jodyyy1/blank-app/blob/main/Detect_LLM_Generated_Essays.ipynb\" target=\"_parent\"><img src=\"https://colab.research.google.com/assets/colab-badge.svg\" alt=\"Open In Colab\"/></a>"
      ]
    },
    {
      "source": [
        "\n",
        "# IMPORTANT: RUN THIS CELL IN ORDER TO IMPORT YOUR KAGGLE DATA SOURCES\n",
        "# TO THE CORRECT LOCATION (/kaggle/input) IN YOUR NOTEBOOK,\n",
        "# THEN FEEL FREE TO DELETE THIS CELL.\n",
        "# NOTE: THIS NOTEBOOK ENVIRONMENT DIFFERS FROM KAGGLE'S PYTHON\n",
        "# ENVIRONMENT SO THERE MAY BE MISSING LIBRARIES USED BY YOUR\n",
        "# NOTEBOOK.\n",
        "\n",
        "import os\n",
        "import sys\n",
        "from tempfile import NamedTemporaryFile\n",
        "from urllib.request import urlopen\n",
        "from urllib.parse import unquote, urlparse\n",
        "from urllib.error import HTTPError\n",
        "from zipfile import ZipFile\n",
        "import tarfile\n",
        "import shutil\n",
        "\n",
        "CHUNK_SIZE = 40960\n",
        "DATA_SOURCE_MAPPING = 'llm-detect-ai-generated-text:https%3A%2F%2Fstorage.googleapis.com%2Fkaggle-competitions-data%2Fkaggle-v2%2F61542%2F7516023%2Fbundle%2Farchive.zip%3FX-Goog-Algorithm%3DGOOG4-RSA-SHA256%26X-Goog-Credential%3Dgcp-kaggle-com%2540kaggle-161607.iam.gserviceaccount.com%252F20240725%252Fauto%252Fstorage%252Fgoog4_request%26X-Goog-Date%3D20240725T070258Z%26X-Goog-Expires%3D259200%26X-Goog-SignedHeaders%3Dhost%26X-Goog-Signature%3D308720224f5634a4a06bc2b489679242fc876209b20232761cf4243fc1d27bc9b657fa4568cf5cd69e680fa312c6e9ca4d47ce4f6256c654e33ac821dc4f659c56821e2f6acd521721f947d30f1acda9ca7494ba3be694ad8e153a9d6c7ee50a6b1daa74d4cd4c6ba56a66e4efe6bd6aaf95cb429c9e03418d032397140c6aa4d259c29b2cc54b1d8041a4d73a17452b712b83da5a2aa7014301076c96dc5762d6be0b4922d7f6554bf8ff55fd4f2db63e997f40a7bf3bcec65189aa0a768e2b6af79db191379fb91c250c2622c43f9da9069343dbf1c95c792c1ee4cd1e56ccfc82aa6203c9967f5c74ba54cc7d6806861ff74f89e925c9497afd2aa13198f5,daigt-external-dataset:https%3A%2F%2Fstorage.googleapis.com%2Fkaggle-data-sets%2F3936750%2F6847931%2Fbundle%2Farchive.zip%3FX-Goog-Algorithm%3DGOOG4-RSA-SHA256%26X-Goog-Credential%3Dgcp-kaggle-com%2540kaggle-161607.iam.gserviceaccount.com%252F20240725%252Fauto%252Fstorage%252Fgoog4_request%26X-Goog-Date%3D20240725T070258Z%26X-Goog-Expires%3D259200%26X-Goog-SignedHeaders%3Dhost%26X-Goog-Signature%3D8e18530044d1f8a59a967333f8170af1d078af39b8cea1ed0d8b0198036e508bb5f835e0b943324b53ea44ac9cca73eb9982d345cc182d96467c958350a8b70b1ebc9d8985eb77c3689faa206d83b5e181981e57625e1bc38bb658954c0c368f83e8dc6e0db15504184ffe28ebd21ddaa6937ff42e89692c787bcf5bd5db0ee32569d5a5ec5f51dab26b7d19ef5f2d13d6db015adf27eb3fa276494f71bf9f34d7b31c322d128627d11e17059e1591a2a630d2163f7d355a0b863b01020a54c469cb036224fa402b3c6b2eecb79b54c4860617c8456ba4740de96f00f01673f01d64cf589cfced997658b530b13782b5b8fbcf8c61e5df40b9cb21d7d039df88,argugpt:https%3A%2F%2Fstorage.googleapis.com%2Fkaggle-data-sets%2F3946973%2F6867914%2Fbundle%2Farchive.zip%3FX-Goog-Algorithm%3DGOOG4-RSA-SHA256%26X-Goog-Credential%3Dgcp-kaggle-com%2540kaggle-161607.iam.gserviceaccount.com%252F20240725%252Fauto%252Fstorage%252Fgoog4_request%26X-Goog-Date%3D20240725T070258Z%26X-Goog-Expires%3D259200%26X-Goog-SignedHeaders%3Dhost%26X-Goog-Signature%3D9f46791f686702bf303a43e108ece69cf9c673d26db44e7d4b1bd42fab3a2649519f0cff699a15044b14b0bf4b989973f19dc6261d21ca948edf17476e69cb9651e5cdfaeccd0aae012814d93ac4e41b25106756b7449e5830d4779c8e616fa4aaa3781dc58aa3fb211a447454ef7ba45aa1aa4709ebfb66664837f0ec0f035f6dd9db7034652fdcbb84b0988890486cdaa5e15bec531db88917bd593e7c762c6e8aa92c875086e65f20d29dcbac22817e466e59a42f1ef91f4f18585c9c733345296dbadaed3caaed2ea44c636dca6e00ab24e0d8988c9fee8d4aedf15383a2ede49d46f9b813eb108a2075cde7b5431458d73fed5d578e4991f34b4dc2007e,llm-generated-essays:https%3A%2F%2Fstorage.googleapis.com%2Fkaggle-data-sets%2F3937441%2F6868189%2Fbundle%2Farchive.zip%3FX-Goog-Algorithm%3DGOOG4-RSA-SHA256%26X-Goog-Credential%3Dgcp-kaggle-com%2540kaggle-161607.iam.gserviceaccount.com%252F20240725%252Fauto%252Fstorage%252Fgoog4_request%26X-Goog-Date%3D20240725T070258Z%26X-Goog-Expires%3D259200%26X-Goog-SignedHeaders%3Dhost%26X-Goog-Signature%3D11807c5ca3af6c084f029a3ffdb904a66b9a8e03612946ce655c218272a45bbe2b7d6be628e90662365d0408c56c2de8742b21085d561879ee28a3055f53aa3c5c11f0afe9b0a5eb32d0a3ca60d294cf33f5872f4a87eaace29e1b4afd40b25f9da27f184321864fc7a72b5fbbdd79a3a44f28e0b2eaa8548c9d07d8c0f32501dee5e97566012168765128c38544aa0d15ff094a446a930535033f94efc857cb27ba25df0db0a98cb5c3fc7eebf0b1e97f31b2491db0f243a9eb0ffc4b366204098fd009a63c2141e22fbf3fb94c4972f46cd2e97b9af9264509094b6e15fb512f6870db291d8b87857e3fdcea8beed1a91eedf406a362d4a7c3c20b99c68484,hello-claude-1000-essays-from-anthropic:https%3A%2F%2Fstorage.googleapis.com%2Fkaggle-data-sets%2F3955358%2F6888403%2Fbundle%2Farchive.zip%3FX-Goog-Algorithm%3DGOOG4-RSA-SHA256%26X-Goog-Credential%3Dgcp-kaggle-com%2540kaggle-161607.iam.gserviceaccount.com%252F20240725%252Fauto%252Fstorage%252Fgoog4_request%26X-Goog-Date%3D20240725T070258Z%26X-Goog-Expires%3D259200%26X-Goog-SignedHeaders%3Dhost%26X-Goog-Signature%3Daea5165750f5d4c95e273590b1cb8e32717a819c2b34f2742b87493ed637769f9f742550423a8d626268c89f00356406a37d10d91301bd201a3fb3e9a545c8de764af7654bd477cac38b9f49739b6f95d985fac0d14375b2abcf5219454cb614036ebe11bdb6d8e36b733dd3a6af5bdc447f10a5fdaedb3ddd652fac2e111c49c416a47c26d52e23239daa59b2b8b4d43ae97d5b11769655658f27ee225e2a44bce02e8478b2dc0c5781409b2554ae4aab67c8507ce9b60b39c29aa6a25d85f996db5e88a38703034c43bf0ed02a080d55b65e610e69531bc743772e67b9cfe54ece391980dc3d118c70bac2669c8ee4ac5fbaa8e336efaba7e0faa9422df4b1,daigt-proper-train-dataset:https%3A%2F%2Fstorage.googleapis.com%2Fkaggle-data-sets%2F3942644%2F6890527%2Fbundle%2Farchive.zip%3FX-Goog-Algorithm%3DGOOG4-RSA-SHA256%26X-Goog-Credential%3Dgcp-kaggle-com%2540kaggle-161607.iam.gserviceaccount.com%252F20240725%252Fauto%252Fstorage%252Fgoog4_request%26X-Goog-Date%3D20240725T070258Z%26X-Goog-Expires%3D259200%26X-Goog-SignedHeaders%3Dhost%26X-Goog-Signature%3D8bb660aeeef5334c2ca82e4b382c58a6897933d3aadb5d2295331923799c34c2aef5d627f9b00ad557f46acf7d1a6651223ca0ee60b4253b1c2f38c860bc1c73297eb8d9b9d346772d0fb2c3da1a6b714c4a3a042b64ae387533e5e1fb1d6a9d9ffef29b5c9ab939ba23bf6c5d3b8d2e65c488c4f82a0c62cec7f7c93357f50d7c53fe97c0a5f368c81bb4cb9107feb5fa9de52e918a71a92ee71d0faea2fb8db9c4940bf430b94db86492d0ab314e57449b774423ff10de78d85f079506737bb90d186c54efce799b18110a92532f1c41e7b3a12bf0a1418d597d08c56cf336bf6203558f11fc311a6df08b5e6f983b92bfeca9772ef958ed2e0bf10e4deb3a,llm-generated-essay-using-palm-from-google-gen-ai:https%3A%2F%2Fstorage.googleapis.com%2Fkaggle-data-sets%2F3973977%2F6920799%2Fbundle%2Farchive.zip%3FX-Goog-Algorithm%3DGOOG4-RSA-SHA256%26X-Goog-Credential%3Dgcp-kaggle-com%2540kaggle-161607.iam.gserviceaccount.com%252F20240725%252Fauto%252Fstorage%252Fgoog4_request%26X-Goog-Date%3D20240725T070258Z%26X-Goog-Expires%3D259200%26X-Goog-SignedHeaders%3Dhost%26X-Goog-Signature%3Db212b56ac989ee64bd38473a0f9735e3c33567dc6ef73ce5f903f371462d18f6a4753cf84e45095ef611551d8ac51b6f3f3b7c7a47d5abd6f02b2db084896c35ef4117073945c05e15fa31d4618be4c6649564ae04e40ca21ba3a9324a767ddbddd71750546e34a17ba18c98b56c9b78dea50786e5b736393bfbaac16408e06d5c0c19417c59372ff5eb7d64c62a6d354127defa0f83663bbad15b036e695446056b1abe73512bbdf4860aeb653598f3c838c4078cc0633497d53cf71fc6edbef33977f33c2c624fb68b5ff06ac22d11d7c525bf31d07ce86411e04e214da58c4fd9907dd2c63fd16aba42fdaf64abc99e7d7365264119e790d3ad9ba25d4295,llm-7-prompt-training-dataset:https%3A%2F%2Fstorage.googleapis.com%2Fkaggle-data-sets%2F3961875%2F6971638%2Fbundle%2Farchive.zip%3FX-Goog-Algorithm%3DGOOG4-RSA-SHA256%26X-Goog-Credential%3Dgcp-kaggle-com%2540kaggle-161607.iam.gserviceaccount.com%252F20240725%252Fauto%252Fstorage%252Fgoog4_request%26X-Goog-Date%3D20240725T070258Z%26X-Goog-Expires%3D259200%26X-Goog-SignedHeaders%3Dhost%26X-Goog-Signature%3D570725398b4f626ccd1340a986e81dc7012967a4d9f1ab9f06999329daf0a8ed40c7af8b047415d025a4ea61a681ced9bf887cddf7f54aa9974aa34888af1071049bc9fa92a39f19f2149ea8d359bcfb13a223e701ec0af471db909ea0412b5d89e2c3bc3f10603eb211840887dc07fb88fc74dffbd46f85fb7ef699f1b55d48a38f190af2c3b87c38e68af22ce587b4b39714db937f33ef9acb5d23dac245eeb1617ba99067d512dbc328d29bfb0641a62e6f566e4795ea61f741470ad681026939baf9dd4c8c70dc8f83d2aeaed8a8d2c4c814d5bd27e0644def41678b4e1f8c002bf87afd1fe07c77b69035fd17e485e6a723b328af8b43c5a607259089ed,daigt-v2-train-dataset:https%3A%2F%2Fstorage.googleapis.com%2Fkaggle-data-sets%2F4005256%2F6977472%2Fbundle%2Farchive.zip%3FX-Goog-Algorithm%3DGOOG4-RSA-SHA256%26X-Goog-Credential%3Dgcp-kaggle-com%2540kaggle-161607.iam.gserviceaccount.com%252F20240725%252Fauto%252Fstorage%252Fgoog4_request%26X-Goog-Date%3D20240725T070258Z%26X-Goog-Expires%3D259200%26X-Goog-SignedHeaders%3Dhost%26X-Goog-Signature%3Dab32ad8272979b50ffb2072051bb3ca957937cfc0fe8350ff4d6a0c5886d321a603499a18e21af7ae83c436a7060a57f9b43d605dc529a8eb6e9beb3523ac74a66b3324b8d9b0d100db4f0c1d1c3a192ad5e74511fb3d49dfad7387469c43026ca9539f76fec84ba861bbc4e62338da41425ac736f3af7375f137a26fbeab878732f1add3b8a531e7915aed06b79df3241b9ee91eda39d83676fad4040eb97809ab95976363ae2b27bfb5c01d64db9d10fd991b466e23d3a3b64a7d1b9e8b6eddc8b084d453aa7aa76be934fa1ed3f61cbe15f3f4e40cd12e8f55ca7b3a8243d76ffc83a0dd1c7b317155560f4c71ebdaf465aa9e9aed15d000bc7ecdf19eb3b,persaude-corpus-2:https%3A%2F%2Fstorage.googleapis.com%2Fkaggle-data-sets%2F3937250%2F7017419%2Fbundle%2Farchive.zip%3FX-Goog-Algorithm%3DGOOG4-RSA-SHA256%26X-Goog-Credential%3Dgcp-kaggle-com%2540kaggle-161607.iam.gserviceaccount.com%252F20240725%252Fauto%252Fstorage%252Fgoog4_request%26X-Goog-Date%3D20240725T070259Z%26X-Goog-Expires%3D259200%26X-Goog-SignedHeaders%3Dhost%26X-Goog-Signature%3D5806dd4a9d0815f006aa49b0ae2584307465fa4cb6b43da430e4fcf9bfa988ce1f4f8d522d4938c034685d551ca83c5bbc3db09ede2b676b434b765d402853b83b930231c688a311688331a54e1233a0a801d00fb95839ff48d8138427d993df1482bda2758bc7324ae932d69dfaf7796e3ad32040b50e2b3ddcd5d963ed85cb4cdb4cadb21280aa69a4e067c8d0b952711f8d6573f89ba0dac897e46022be6197d25bca760f72b1b8b6802fb1ae40c90c6ed1cefa43a0c08ab9379f78a15d5decb816d1e1b1cb02a792a852950dfcf059f55b87cd4d25894a2b4d052ea9a86842020fa666158bbf369f1811467fa810f3c93b50fefdda81d0d1c439af424bb4,daigt-data-llama-70b-and-falcon180b:https%3A%2F%2Fstorage.googleapis.com%2Fkaggle-data-sets%2F3944051%2F7060310%2Fbundle%2Farchive.zip%3FX-Goog-Algorithm%3DGOOG4-RSA-SHA256%26X-Goog-Credential%3Dgcp-kaggle-com%2540kaggle-161607.iam.gserviceaccount.com%252F20240725%252Fauto%252Fstorage%252Fgoog4_request%26X-Goog-Date%3D20240725T070259Z%26X-Goog-Expires%3D259200%26X-Goog-SignedHeaders%3Dhost%26X-Goog-Signature%3D17b3efb6266ea27fd0110cdf1323ac1872e7cbc7782b03e58f45009c2a28dcbf3336b152a9f9a3f85b5b5fd0293a0ca0e8571409dc16d0127b67d7cb94259bc7efdf46d47b3e2fc060e6398d5300da6730924a5f0a5225c19448125a7ffbdf0c7454af727fc2ec35f61bcf6bb99a82579d88388cdce535fb51f7797195a90106b3a37fef4eb3afe49b7851f944865722e75612f37f025f3bc14420b649de43e6d2e755bc37740630d971d683c4b616bfb0e0f5b8c0217aa366408cd6ae18475d67b71d1a6f691afaf924076b97994879379f0ac3dbf799d452304f3d7d7f7520b827491f1fca6981e3f299998d6fd4ae63f63dbcc7f027e8b4c12c9852edd848'\n",
        "\n",
        "KAGGLE_INPUT_PATH='/kaggle/input'\n",
        "KAGGLE_WORKING_PATH='/kaggle/working'\n",
        "KAGGLE_SYMLINK='kaggle'\n",
        "\n",
        "!umount /kaggle/input/ 2> /dev/null\n",
        "shutil.rmtree('/kaggle/input', ignore_errors=True)\n",
        "os.makedirs(KAGGLE_INPUT_PATH, 0o777, exist_ok=True)\n",
        "os.makedirs(KAGGLE_WORKING_PATH, 0o777, exist_ok=True)\n",
        "\n",
        "try:\n",
        "  os.symlink(KAGGLE_INPUT_PATH, os.path.join(\"..\", 'input'), target_is_directory=True)\n",
        "except FileExistsError:\n",
        "  pass\n",
        "try:\n",
        "  os.symlink(KAGGLE_WORKING_PATH, os.path.join(\"..\", 'working'), target_is_directory=True)\n",
        "except FileExistsError:\n",
        "  pass\n",
        "\n",
        "for data_source_mapping in DATA_SOURCE_MAPPING.split(','):\n",
        "    directory, download_url_encoded = data_source_mapping.split(':')\n",
        "    download_url = unquote(download_url_encoded)\n",
        "    filename = urlparse(download_url).path\n",
        "    destination_path = os.path.join(KAGGLE_INPUT_PATH, directory)\n",
        "    try:\n",
        "        with urlopen(download_url) as fileres, NamedTemporaryFile() as tfile:\n",
        "            total_length = fileres.headers['content-length']\n",
        "            print(f'Downloading {directory}, {total_length} bytes compressed')\n",
        "            dl = 0\n",
        "            data = fileres.read(CHUNK_SIZE)\n",
        "            while len(data) > 0:\n",
        "                dl += len(data)\n",
        "                tfile.write(data)\n",
        "                done = int(50 * dl / int(total_length))\n",
        "                sys.stdout.write(f\"\\r[{'=' * done}{' ' * (50-done)}] {dl} bytes downloaded\")\n",
        "                sys.stdout.flush()\n",
        "                data = fileres.read(CHUNK_SIZE)\n",
        "            if filename.endswith('.zip'):\n",
        "              with ZipFile(tfile) as zfile:\n",
        "                zfile.extractall(destination_path)\n",
        "            else:\n",
        "              with tarfile.open(tfile.name) as tarfile:\n",
        "                tarfile.extractall(destination_path)\n",
        "            print(f'\\nDownloaded and uncompressed: {directory}')\n",
        "    except HTTPError as e:\n",
        "        print(f'Failed to load (likely expired) {download_url} to path {destination_path}')\n",
        "        continue\n",
        "    except OSError as e:\n",
        "        print(f'Failed to load {download_url} to path {destination_path}')\n",
        "        continue\n",
        "\n",
        "print('Data source import complete.')\n"
      ],
      "metadata": {
        "id": "El2TJxt9szoG",
        "outputId": "9e8e7537-2c14-48b3-daf6-94b7df1873e7",
        "colab": {
          "base_uri": "https://localhost:8080/"
        }
      },
      "cell_type": "code",
      "outputs": [
        {
          "output_type": "stream",
          "name": "stdout",
          "text": [
            "Downloading llm-detect-ai-generated-text, 1449919 bytes compressed\n",
            "[==================================================] 1449919 bytes downloaded\n",
            "Downloaded and uncompressed: llm-detect-ai-generated-text\n",
            "Downloading daigt-external-dataset, 3006707 bytes compressed\n",
            "[==================================================] 3006707 bytes downloaded\n",
            "Downloaded and uncompressed: daigt-external-dataset\n",
            "Downloading argugpt, 3419856 bytes compressed\n",
            "[==================================================] 3419856 bytes downloaded\n",
            "Downloaded and uncompressed: argugpt\n",
            "Downloading llm-generated-essays, 533115 bytes compressed\n",
            "[==================================================] 533115 bytes downloaded\n",
            "Downloaded and uncompressed: llm-generated-essays\n",
            "Downloading hello-claude-1000-essays-from-anthropic, 730846 bytes compressed\n",
            "[==================================================] 730846 bytes downloaded\n",
            "Downloaded and uncompressed: hello-claude-1000-essays-from-anthropic\n",
            "Downloading daigt-proper-train-dataset, 124388618 bytes compressed\n",
            "[==================================================] 124388618 bytes downloaded\n",
            "Downloaded and uncompressed: daigt-proper-train-dataset\n",
            "Downloading llm-generated-essay-using-palm-from-google-gen-ai, 519291 bytes compressed\n",
            "[==================================================] 519291 bytes downloaded\n",
            "Downloaded and uncompressed: llm-generated-essay-using-palm-from-google-gen-ai\n",
            "Downloading llm-7-prompt-training-dataset, 43404345 bytes compressed\n",
            "[==================================================] 43404345 bytes downloaded\n",
            "Downloaded and uncompressed: llm-7-prompt-training-dataset\n",
            "Downloading daigt-v2-train-dataset, 29923908 bytes compressed\n",
            "[==================================================] 29923908 bytes downloaded\n",
            "Downloaded and uncompressed: daigt-v2-train-dataset\n",
            "Downloading persaude-corpus-2, 55118016 bytes compressed\n",
            "[==================================================] 55118016 bytes downloaded\n",
            "Downloaded and uncompressed: persaude-corpus-2\n",
            "Downloading daigt-data-llama-70b-and-falcon180b, 6163526 bytes compressed\n",
            "[==================================================] 6163526 bytes downloaded\n",
            "Downloaded and uncompressed: daigt-data-llama-70b-and-falcon180b\n",
            "Data source import complete.\n"
          ]
        }
      ],
      "execution_count": null
    },
    {
      "cell_type": "markdown",
      "source": [
        "Identification de texte generer par IA vs HM\n"
      ],
      "metadata": {
        "id": "XfNttVqPszoN"
      }
    },
    {
      "cell_type": "markdown",
      "source": [
        "![](data:image/jpeg;base64,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)"
      ],
      "metadata": {
        "id": "gS-M9RRlszoP"
      }
    },
    {
      "cell_type": "markdown",
      "source": [
        "---\n",
        "## 1. Acquisition de données\n",
        "---"
      ],
      "metadata": {
        "id": "_Nir9c0_szoQ"
      }
    },
    {
      "cell_type": "markdown",
      "source": [
        "---\n",
        "### 1.1 Importation de bliotèques et chargemengt de l'ensemble de données\n",
        "---"
      ],
      "metadata": {
        "id": "YSpFQuDMszoQ"
      }
    },
    {
      "cell_type": "markdown",
      "source": [
        "- Importation des bibliothèques nécessaires à la manipulation des données à l'aide de Pandas.\n",
        "- Lecture d'un fichier CSV nommé train_essays.csv contenant des données de dissertation.\n",
        "- Sélection de colonnes spécifiques (« texte » et « généré ») à partir de l'ensemble de données.\n",
        "- Renommer la colonne « généré » en « étiquette » pour plus de clarté lors d'une analyse ultérieure"
      ],
      "metadata": {
        "id": "PCSdxeQHszoR"
      }
    },
    {
      "cell_type": "code",
      "source": [
        "from pandas import read_csv\n",
        "\n",
        "\n",
        "train_dataset = read_csv('../input/llm-detect-ai-generated-text/train_essays.csv')[['text', 'generated']].rename(columns={'generated' : 'label'})"
      ],
      "metadata": {
        "trusted": true,
        "id": "b8bLpxmzszoT"
      },
      "execution_count": null,
      "outputs": []
    },
    {
      "cell_type": "markdown",
      "source": [
        "---\n",
        "### 1.2 PRÉPARATION DES JEUX DE DONNÉES\n",
        "\n",
        "---"
      ],
      "metadata": {
        "id": "V8TTZm7zszoU"
      }
    },
    {
      "cell_type": "markdown",
      "source": [
        "- Chargement d'ensembles de données à partir de diverses sources à l'aide de la bibliothèque Pandas.\n",
        "- Sélection des colonnes pertinentes (« texte » et « étiquette ») à partir de tous les ensembles de données.\n",
        "- Attribuer des étiquettes à certains ensembles de données pour indiquer leur origine ou leur nature.\n",
        "- Combinaison et réinitialisation de l'index des ensembles de données pour plus de cohérence.\n",
        "- Création d'un ensemble d'ensembles de données organisés pour une analyse ultérieure et une formation de modèle."
      ],
      "metadata": {
        "id": "yb3Dg9fjszoU"
      }
    },
    {
      "cell_type": "code",
      "source": [
        "curated_dataset = read_csv('../input/daigt-proper-train-dataset/train_drcat_01.csv')[['text', 'label']].reset_index(drop=True)\n",
        "curated_dataset1 = read_csv('../input/daigt-proper-train-dataset/train_drcat_02.csv')[['text', 'label']].reset_index(drop=True)\n",
        "curated_dataset2 = read_csv('../input/daigt-proper-train-dataset/train_drcat_03.csv')[['text', 'label']].reset_index(drop=True)\n",
        "curated_dataset3 = read_csv('../input/daigt-proper-train-dataset/train_drcat_04.csv')[['text', 'label']].reset_index(drop=True)\n",
        "\n",
        "curated_dataset4 = read_csv('../input/argugpt/machine-train.csv')[['text']].reset_index(drop=True).assign(label=1)\n",
        "curated_dataset5 = read_csv('../input/argugpt/machine-test.csv')[['text']].reset_index(drop=True).assign(label=1)\n",
        "\n",
        "curated_dataset6 = read_csv('../input/llm-generated-essays/ai_generated_train_essays.csv')[['text']].reset_index(drop=True).assign(label=1)\n",
        "curated_dataset7 = read_csv('../input/llm-generated-essays/ai_generated_train_essays_gpt-4.csv')[['text']].reset_index(drop=True).assign(label=1)\n",
        "\n",
        "curated_dataset9 = read_csv('/kaggle/input/daigt-external-dataset/daigt_external_dataset.csv')[['text']].reset_index(drop=True).assign(label=1)\n",
        "curated_dataset10 = read_csv('/kaggle/input/daigt-data-llama-70b-and-falcon180b/llama_70b_v1.csv')[['generated_text']].rename(columns={'generated_text' : 'text'}).reset_index(drop=True).assign(label=1)\n",
        "\n",
        "curated_dataset11 = read_csv('/kaggle/input/daigt-data-llama-70b-and-falcon180b/falcon_180b_v1.csv')[['generated_text']].rename(columns={'generated_text' : 'text'}).reset_index(drop=True).assign(label=1)\n",
        "\n",
        "curated_dataset12 = read_csv('/kaggle/input/daigt-v2-train-dataset/train_v2_drcat_02.csv')[['text', 'label']].reset_index(drop=True)\n",
        "curated_dataset13 = read_csv('/kaggle/input/hello-claude-1000-essays-from-anthropic/persuade15_claude_instant1.csv')[['essay_text']].rename(columns={'essay_text' : 'text'}).reset_index(drop=True).assign(label=1)\n",
        "curated_dataset14 = read_csv('/kaggle/input/llm-generated-essay-using-palm-from-google-gen-ai/LLM_generated_essay_PaLM.csv')[['text', 'generated']].rename(columns={'generated' : 'label'})\n",
        "curated_dataset15 = read_csv('/kaggle/input/llm-7-prompt-training-dataset/train_essays_RDizzl3_seven_v2.csv')[['text', 'label']].reset_index(drop=True)\n",
        "curated_dataset16 = read_csv('/kaggle/input/llm-7-prompt-training-dataset/train_essays_RDizzl3_seven_v1.csv')[['text', 'label']].reset_index(drop=True)\n",
        "curated_dataset17 = read_csv('/kaggle/input/llm-7-prompt-training-dataset/train_essays_7_prompts_v2.csv')[['text', 'label']].reset_index(drop=True)\n",
        "curated_dataset18 = read_csv('/kaggle/input/llm-7-prompt-training-dataset/train_essays_7_prompts.csv')[['text', 'label']].reset_index(drop=True)\n"
      ],
      "metadata": {
        "execution": {
          "iopub.status.busy": "2024-07-24T19:42:05.120751Z",
          "iopub.execute_input": "2024-07-24T19:42:05.121127Z",
          "iopub.status.idle": "2024-07-24T19:42:22.284385Z",
          "shell.execute_reply.started": "2024-07-24T19:42:05.121096Z",
          "shell.execute_reply": "2024-07-24T19:42:22.283311Z"
        },
        "trusted": true,
        "id": "epR-Tg73szoV"
      },
      "execution_count": null,
      "outputs": []
    },
    {
      "cell_type": "markdown",
      "source": [
        "---\n",
        "### 1.3 COMBINAISON D'ENSEMBLES DE DONNÉES\n",
        "---"
      ],
      "metadata": {
        "id": "U644f-QgszoV"
      }
    },
    {
      "cell_type": "markdown",
      "source": [
        "- Importation de la fonction concat depuis la bibliothèque Pandas.\n",
        "- Concaténation (empilement verticalement) de plusieurs ensembles de données organisés.\n",
        "- Création d'un train_dataset unifié qui intègre des données provenant de diverses origines."
      ],
      "metadata": {
        "id": "DYCH00mZWYXm"
      }
    },
    {
      "cell_type": "code",
      "source": [
        "import matplotlib.pyplot as plt\n",
        "import seaborn as sns\n",
        "from pandas import concat\n",
        "\n",
        "train_dataset = concat([train_dataset,\n",
        "                        curated_dataset,\n",
        "                        curated_dataset1,\n",
        "                        curated_dataset2,\n",
        "                        curated_dataset3,\n",
        "                        curated_dataset4,\n",
        "                        curated_dataset5,\n",
        "                        curated_dataset6,\n",
        "                        curated_dataset7,\n",
        "                        curated_dataset9,\n",
        "                        curated_dataset10,\n",
        "                        curated_dataset11,\n",
        "                        curated_dataset12,\n",
        "                        curated_dataset13,\n",
        "                        curated_dataset14,\n",
        "                        curated_dataset15,\n",
        "                        curated_dataset16,\n",
        "                        curated_dataset17,\n",
        "                        curated_dataset18])\n",
        "\n",
        "\n",
        "plt.figure(figsize=(8, 6))\n",
        "sns.countplot(x='label', data=train_dataset)\n",
        "plt.title('Class Distribution')\n",
        "plt.xlabel('Class')\n",
        "plt.ylabel('Count')\n",
        "plt.show()"
      ],
      "metadata": {
        "execution": {
          "iopub.status.busy": "2024-07-24T19:42:22.285866Z",
          "iopub.execute_input": "2024-07-24T19:42:22.286316Z",
          "iopub.status.idle": "2024-07-24T19:42:23.412781Z",
          "shell.execute_reply.started": "2024-07-24T19:42:22.286277Z",
          "shell.execute_reply": "2024-07-24T19:42:23.411713Z"
        },
        "trusted": true,
        "id": "p3jr7h9BszoW",
        "outputId": "ea8a9aea-d374-40c3-88b2-d29b8e4e27e3",
        "colab": {
          "base_uri": "https://localhost:8080/",
          "height": 564
        }
      },
      "execution_count": null,
      "outputs": [
        {
          "output_type": "display_data",
          "data": {
            "text/plain": [
              "<Figure size 800x600 with 1 Axes>"
            ],
            "image/png": "[encoded data removed]"
          },
          "metadata": {}
        }
      ]
    },
    {
      "cell_type": "markdown",
      "source": [
        "---\n",
        "## 2. PRÉTRAITEMENT DES DONNÉES\n",
        "---"
      ],
      "metadata": {
        "id": "Zxb0BufwszoW"
      }
    },
    {
      "cell_type": "markdown",
      "source": [
        "---\n",
        "### 2.1 CLEANING\n",
        "--- ( nettoyage )"
      ],
      "metadata": {
        "id": "NItCLNieszoW"
      }
    },
    {
      "cell_type": "markdown",
      "source": [
        "- Accéder à la colonne « texte » dans le train_datasetDataFrame.\n",
        "- Utilisation de la .str.replace('\\n', ' ')méthode pour remplacer les caractères de nouvelle ligne ( '\\n') par des espaces.\n",
        "- Pour assurer l’uniformité et la cohérence des données textuelles."
      ],
      "metadata": {
        "id": "BSrg07I0szoW"
      }
    },
    {
      "cell_type": "code",
      "source": [
        "train_dataset.text = train_dataset.text.str.replace('\\n', ' ')"
      ],
      "metadata": {
        "execution": {
          "iopub.status.busy": "2024-07-24T19:42:23.414398Z",
          "iopub.execute_input": "2024-07-24T19:42:23.414839Z",
          "iopub.status.idle": "2024-07-24T19:42:24.360391Z",
          "shell.execute_reply.started": "2024-07-24T19:42:23.414799Z",
          "shell.execute_reply": "2024-07-24T19:42:24.359212Z"
        },
        "trusted": true,
        "id": "gZ_tptwWszoW"
      },
      "execution_count": null,
      "outputs": []
    },
    {
      "cell_type": "markdown",
      "source": [
        "---\n",
        "### 2.2 EXAMEN DE L'ENSEMBLE DE DONNÉES\n",
        "---"
      ],
      "metadata": {
        "id": "GqI26b-7szoW"
      }
    },
    {
      "cell_type": "code",
      "source": [
        "train_dataset.head()"
      ],
      "metadata": {
        "execution": {
          "iopub.status.busy": "2024-07-24T19:42:24.36347Z",
          "iopub.execute_input": "2024-07-24T19:42:24.363853Z",
          "iopub.status.idle": "2024-07-24T19:42:24.381576Z",
          "shell.execute_reply.started": "2024-07-24T19:42:24.36382Z",
          "shell.execute_reply": "2024-07-24T19:42:24.380451Z"
        },
        "trusted": true,
        "id": "ja5iwymuszoX",
        "outputId": "b178c2ac-84d1-4054-9164-b630608ee107",
        "colab": {
          "base_uri": "https://localhost:8080/",
          "height": 206
        }
      },
      "execution_count": null,
      "outputs": [
        {
          "output_type": "execute_result",
          "data": {
            "text/plain": [
              "                                                text  label\n",
              "0  Cars. Cars have been around since they became ...    0.0\n",
              "1  Transportation is a large necessity in most co...    0.0\n",
              "2  \"America's love affair with it's vehicles seem...    0.0\n",
              "3  How often do you ride in a car? Do you drive a...    0.0\n",
              "4  Cars are a wonderful thing. They are perhaps o...    0.0"
            ],
            "text/html": [
              "\n",
              "  <div id=\"df-5c0f8b4c-2534-47e2-bd22-609ce43aaa0c\" class=\"colab-df-container\">\n",
              "    <div>\n",
              "<style scoped>\n",
              "    .dataframe tbody tr th:only-of-type {\n",
              "        vertical-align: middle;\n",
              "    }\n",
              "\n",
              "    .dataframe tbody tr th {\n",
              "        vertical-align: top;\n",
              "    }\n",
              "\n",
              "    .dataframe thead th {\n",
              "        text-align: right;\n",
              "    }\n",
              "</style>\n",
              "<table border=\"1\" class=\"dataframe\">\n",
              "  <thead>\n",
              "    <tr style=\"text-align: right;\">\n",
              "      <th></th>\n",
              "      <th>text</th>\n",
              "      <th>label</th>\n",
              "    </tr>\n",
              "  </thead>\n",
              "  <tbody>\n",
              "    <tr>\n",
              "      <th>0</th>\n",
              "      <td>Cars. Cars have been around since they became ...</td>\n",
              "      <td>0.0</td>\n",
              "    </tr>\n",
              "    <tr>\n",
              "      <th>1</th>\n",
              "      <td>Transportation is a large necessity in most co...</td>\n",
              "      <td>0.0</td>\n",
              "    </tr>\n",
              "    <tr>\n",
              "      <th>2</th>\n",
              "      <td>\"America's love affair with it's vehicles seem...</td>\n",
              "      <td>0.0</td>\n",
              "    </tr>\n",
              "    <tr>\n",
              "      <th>3</th>\n",
              "      <td>How often do you ride in a car? Do you drive a...</td>\n",
              "      <td>0.0</td>\n",
              "    </tr>\n",
              "    <tr>\n",
              "      <th>4</th>\n",
              "      <td>Cars are a wonderful thing. They are perhaps o...</td>\n",
              "      <td>0.0</td>\n",
              "    </tr>\n",
              "  </tbody>\n",
              "</table>\n",
              "</div>\n",
              "    <div class=\"colab-df-buttons\">\n",
              "\n",
              "  <div class=\"colab-df-container\">\n",
              "    <button class=\"colab-df-convert\" onclick=\"convertToInteractive('df-5c0f8b4c-2534-47e2-bd22-609ce43aaa0c')\"\n",
              "            title=\"Convert this dataframe to an interactive table.\"\n",
              "            style=\"display:none;\">\n",
              "\n",
              "  <svg xmlns=\"http://www.w3.org/2000/svg\" height=\"24px\" viewBox=\"0 -960 960 960\">\n",
              "    <path d=\"M120-120v-720h720v720H120Zm60-500h600v-160H180v160Zm220 220h160v-160H400v160Zm0 220h160v-160H400v160ZM180-400h160v-160H180v160Zm440 0h160v-160H620v160ZM180-180h160v-160H180v160Zm440 0h160v-160H620v160Z\"/>\n",
              "  </svg>\n",
              "    </button>\n",
              "\n",
              "  <style>\n",
              "    .colab-df-container {\n",
              "      display:flex;\n",
              "      gap: 12px;\n",
              "    }\n",
              "\n",
              "    .colab-df-convert {\n",
              "      background-color: #E8F0FE;\n",
              "      border: none;\n",
              "      border-radius: 50%;\n",
              "      cursor: pointer;\n",
              "      display: none;\n",
              "      fill: #1967D2;\n",
              "      height: 32px;\n",
              "      padding: 0 0 0 0;\n",
              "      width: 32px;\n",
              "    }\n",
              "\n",
              "    .colab-df-convert:hover {\n",
              "      background-color: #E2EBFA;\n",
              "      box-shadow: 0px 1px 2px rgba(60, 64, 67, 0.3), 0px 1px 3px 1px rgba(60, 64, 67, 0.15);\n",
              "      fill: #174EA6;\n",
              "    }\n",
              "\n",
              "    .colab-df-buttons div {\n",
              "      margin-bottom: 4px;\n",
              "    }\n",
              "\n",
              "    [theme=dark] .colab-df-convert {\n",
              "      background-color: #3B4455;\n",
              "      fill: #D2E3FC;\n",
              "    }\n",
              "\n",
              "    [theme=dark] .colab-df-convert:hover {\n",
              "      background-color: #434B5C;\n",
              "      box-shadow: 0px 1px 3px 1px rgba(0, 0, 0, 0.15);\n",
              "      filter: drop-shadow(0px 1px 2px rgba(0, 0, 0, 0.3));\n",
              "      fill: #FFFFFF;\n",
              "    }\n",
              "  </style>\n",
              "\n",
              "    <script>\n",
              "      const buttonEl =\n",
              "        document.querySelector('#df-5c0f8b4c-2534-47e2-bd22-609ce43aaa0c button.colab-df-convert');\n",
              "      buttonEl.style.display =\n",
              "        google.colab.kernel.accessAllowed ? 'block' : 'none';\n",
              "\n",
              "      async function convertToInteractive(key) {\n",
              "        const element = document.querySelector('#df-5c0f8b4c-2534-47e2-bd22-609ce43aaa0c');\n",
              "        const dataTable =\n",
              "          await google.colab.kernel.invokeFunction('convertToInteractive',\n",
              "                                                    [key], {});\n",
              "        if (!dataTable) return;\n",
              "\n",
              "        const docLinkHtml = 'Like what you see? Visit the ' +\n",
              "          '<a target=\"_blank\" href=https://colab.research.google.com/notebooks/data_table.ipynb>data table notebook</a>'\n",
              "          + ' to learn more about interactive tables.';\n",
              "        element.innerHTML = '';\n",
              "        dataTable['output_type'] = 'display_data';\n",
              "        await google.colab.output.renderOutput(dataTable, element);\n",
              "        const docLink = document.createElement('div');\n",
              "        docLink.innerHTML = docLinkHtml;\n",
              "        element.appendChild(docLink);\n",
              "      }\n",
              "    </script>\n",
              "  </div>\n",
              "\n",
              "\n",
              "<div id=\"df-bad12d23-ce7d-4c3f-9782-2c2f5cf684e7\">\n",
              "  <button class=\"colab-df-quickchart\" onclick=\"quickchart('df-bad12d23-ce7d-4c3f-9782-2c2f5cf684e7')\"\n",
              "            title=\"Suggest charts\"\n",
              "            style=\"display:none;\">\n",
              "\n",
              "<svg xmlns=\"http://www.w3.org/2000/svg\" height=\"24px\"viewBox=\"0 0 24 24\"\n",
              "     width=\"24px\">\n",
              "    <g>\n",
              "        <path d=\"M19 3H5c-1.1 0-2 .9-2 2v14c0 1.1.9 2 2 2h14c1.1 0 2-.9 2-2V5c0-1.1-.9-2-2-2zM9 17H7v-7h2v7zm4 0h-2V7h2v10zm4 0h-2v-4h2v4z\"/>\n",
              "    </g>\n",
              "</svg>\n",
              "  </button>\n",
              "\n",
              "<style>\n",
              "  .colab-df-quickchart {\n",
              "      --bg-color: #E8F0FE;\n",
              "      --fill-color: #1967D2;\n",
              "      --hover-bg-color: #E2EBFA;\n",
              "      --hover-fill-color: #174EA6;\n",
              "      --disabled-fill-color: #AAA;\n",
              "      --disabled-bg-color: #DDD;\n",
              "  }\n",
              "\n",
              "  [theme=dark] .colab-df-quickchart {\n",
              "      --bg-color: #3B4455;\n",
              "      --fill-color: #D2E3FC;\n",
              "      --hover-bg-color: #434B5C;\n",
              "      --hover-fill-color: #FFFFFF;\n",
              "      --disabled-bg-color: #3B4455;\n",
              "      --disabled-fill-color: #666;\n",
              "  }\n",
              "\n",
              "  .colab-df-quickchart {\n",
              "    background-color: var(--bg-color);\n",
              "    border: none;\n",
              "    border-radius: 50%;\n",
              "    cursor: pointer;\n",
              "    display: none;\n",
              "    fill: var(--fill-color);\n",
              "    height: 32px;\n",
              "    padding: 0;\n",
              "    width: 32px;\n",
              "  }\n",
              "\n",
              "  .colab-df-quickchart:hover {\n",
              "    background-color: var(--hover-bg-color);\n",
              "    box-shadow: 0 1px 2px rgba(60, 64, 67, 0.3), 0 1px 3px 1px rgba(60, 64, 67, 0.15);\n",
              "    fill: var(--button-hover-fill-color);\n",
              "  }\n",
              "\n",
              "  .colab-df-quickchart-complete:disabled,\n",
              "  .colab-df-quickchart-complete:disabled:hover {\n",
              "    background-color: var(--disabled-bg-color);\n",
              "    fill: var(--disabled-fill-color);\n",
              "    box-shadow: none;\n",
              "  }\n",
              "\n",
              "  .colab-df-spinner {\n",
              "    border: 2px solid var(--fill-color);\n",
              "    border-color: transparent;\n",
              "    border-bottom-color: var(--fill-color);\n",
              "    animation:\n",
              "      spin 1s steps(1) infinite;\n",
              "  }\n",
              "\n",
              "  @keyframes spin {\n",
              "    0% {\n",
              "      border-color: transparent;\n",
              "      border-bottom-color: var(--fill-color);\n",
              "      border-left-color: var(--fill-color);\n",
              "    }\n",
              "    20% {\n",
              "      border-color: transparent;\n",
              "      border-left-color: var(--fill-color);\n",
              "      border-top-color: var(--fill-color);\n",
              "    }\n",
              "    30% {\n",
              "      border-color: transparent;\n",
              "      border-left-color: var(--fill-color);\n",
              "      border-top-color: var(--fill-color);\n",
              "      border-right-color: var(--fill-color);\n",
              "    }\n",
              "    40% {\n",
              "      border-color: transparent;\n",
              "      border-right-color: var(--fill-color);\n",
              "      border-top-color: var(--fill-color);\n",
              "    }\n",
              "    60% {\n",
              "      border-color: transparent;\n",
              "      border-right-color: var(--fill-color);\n",
              "    }\n",
              "    80% {\n",
              "      border-color: transparent;\n",
              "      border-right-color: var(--fill-color);\n",
              "      border-bottom-color: var(--fill-color);\n",
              "    }\n",
              "    90% {\n",
              "      border-color: transparent;\n",
              "      border-bottom-color: var(--fill-color);\n",
              "    }\n",
              "  }\n",
              "</style>\n",
              "\n",
              "  <script>\n",
              "    async function quickchart(key) {\n",
              "      const quickchartButtonEl =\n",
              "        document.querySelector('#' + key + ' button');\n",
              "      quickchartButtonEl.disabled = true;  // To prevent multiple clicks.\n",
              "      quickchartButtonEl.classList.add('colab-df-spinner');\n",
              "      try {\n",
              "        const charts = await google.colab.kernel.invokeFunction(\n",
              "            'suggestCharts', [key], {});\n",
              "      } catch (error) {\n",
              "        console.error('Error during call to suggestCharts:', error);\n",
              "      }\n",
              "      quickchartButtonEl.classList.remove('colab-df-spinner');\n",
              "      quickchartButtonEl.classList.add('colab-df-quickchart-complete');\n",
              "    }\n",
              "    (() => {\n",
              "      let quickchartButtonEl =\n",
              "        document.querySelector('#df-bad12d23-ce7d-4c3f-9782-2c2f5cf684e7 button');\n",
              "      quickchartButtonEl.style.display =\n",
              "        google.colab.kernel.accessAllowed ? 'block' : 'none';\n",
              "    })();\n",
              "  </script>\n",
              "</div>\n",
              "\n",
              "    </div>\n",
              "  </div>\n"
            ],
            "application/vnd.google.colaboratory.intrinsic+json": {
              "type": "dataframe",
              "variable_name": "train_dataset"
            }
          },
          "metadata": {},
          "execution_count": 6
        }
      ]
    },
    {
      "cell_type": "markdown",
      "source": [
        "---\n",
        "### 2.3 VÉRIFICATION DE LA RÉPARTITION DES ÉTIQUETTES\n",
        "---"
      ],
      "metadata": {
        "id": "INIDQu3pszoX"
      }
    },
    {
      "cell_type": "markdown",
      "source": [
        "---\n",
        "- Utilisation de la méthode Pandas **`**value_counts()**`** sur la colonne « label ».\n",
        "- Cette méthode compte les occurrences de chaque étiquette unique dans l'ensemble de données.\n",
        "- La sortie fournit un résumé, indiquant combien d’instances appartiennent à chaque étiquette unique.\n",
        "- Utile pour comprendre l'équilibre ou le déséquilibre de l'ensemble de données et pour prendre des décisions éclairées lors de la formation du modèle.\n",
        "---"
      ],
      "metadata": {
        "id": "uxtCm77yszoX"
      }
    },
    {
      "cell_type": "code",
      "source": [
        "train_dataset.label.value_counts()"
      ],
      "metadata": {
        "execution": {
          "iopub.status.busy": "2024-07-24T19:42:24.38339Z",
          "iopub.execute_input": "2024-07-24T19:42:24.383849Z",
          "iopub.status.idle": "2024-07-24T19:42:24.404231Z",
          "shell.execute_reply.started": "2024-07-24T19:42:24.383808Z",
          "shell.execute_reply": "2024-07-24T19:42:24.402961Z"
        },
        "trusted": true,
        "id": "paWwW3e4szoX",
        "outputId": "84336a0b-7349-47ca-cdf8-f1b10e9fc0fc",
        "colab": {
          "base_uri": "https://localhost:8080/"
        }
      },
      "execution_count": null,
      "outputs": [
        {
          "output_type": "execute_result",
          "data": {
            "text/plain": [
              "label\n",
              "0.0    200039\n",
              "1.0     80432\n",
              "Name: count, dtype: int64"
            ]
          },
          "metadata": {},
          "execution_count": 7
        }
      ]
    },
    {
      "cell_type": "markdown",
      "source": [
        "---\n",
        "###  2.4 VECTORISATION DES DONNÉES TEXTUELLES\n",
        "---"
      ],
      "metadata": {
        "id": "V9BPlzdKszoX"
      }
    },
    {
      "cell_type": "markdown",
      "source": [
        "\n",
        "- Importation de la couche TextVectorization depuis la bibliothèque Keras de TensorFlow.\n",
        "- Initialisation d'un objet TextVectorization nommé tokenizer.\n",
        "- Définition des paramètres du tokenizer :\n",
        "      - `output_mode='int'`: Spécifie que la sortie du tokenizer sera codée en entier.\n",
        "      - `output_sequence_length=512`: Définit la longueur fixe des séquences de sortie.\n",
        "      - `standardize=None`: Désactivation de la normalisation pour conserver le texte original.\n",
        "      - `ngrams=1`: Configuration de la tokenisation d'unigramme.\n",
        "---"
      ],
      "metadata": {
        "id": "-KTTIVBHszoX"
      }
    },
    {
      "cell_type": "code",
      "source": [
        "from tensorflow.keras.layers import TextVectorization\n",
        "\n",
        "tokenizer = TextVectorization(output_mode='int', output_sequence_length=512, standardize=None, ngrams=1)"
      ],
      "metadata": {
        "execution": {
          "iopub.status.busy": "2024-07-24T19:42:24.405639Z",
          "iopub.execute_input": "2024-07-24T19:42:24.406019Z",
          "iopub.status.idle": "2024-07-24T19:42:38.029896Z",
          "shell.execute_reply.started": "2024-07-24T19:42:24.405989Z",
          "shell.execute_reply": "2024-07-24T19:42:38.028931Z"
        },
        "trusted": true,
        "id": "nit-f21vszoX"
      },
      "execution_count": null,
      "outputs": []
    },
    {
      "cell_type": "markdown",
      "source": [
        "---\n",
        "### 2.5 ADAPTATION DE LA COUCHE DE VECTORISATION\n",
        "---"
      ],
      "metadata": {
        "id": "dfU4khkwszoX"
      }
    },
    {
      "cell_type": "markdown",
      "source": [
        "---\n",
        "- En utilisant la adaptméthode de la TextVectorizationcouche.\n",
        "Passer la colonne « texte » de l’ensemble de données d’entraînement ( train_dataset.text) à la adaptméthode.\n",
        "- La couche apprend des paramètres importants tels que le vocabulaire (jetons uniques) et leurs indices au cours de ce processus d'adaptation.\n",
        "- L'adaptation du tokeniseur aux données de formation garantit la cohérence de la tokenisation et de la vectorisation lorsque le modèle est ultérieurement appliqué à de nouvelles données invisibles.\n",
        "---"
      ],
      "metadata": {
        "id": "dulLZKKRszoY"
      }
    },
    {
      "cell_type": "code",
      "source": [
        "tokenizer.adapt(train_dataset.text)"
      ],
      "metadata": {
        "execution": {
          "iopub.status.busy": "2024-07-24T19:42:38.031343Z",
          "iopub.execute_input": "2024-07-24T19:42:38.031791Z",
          "iopub.status.idle": "2024-07-24T19:43:25.04388Z",
          "shell.execute_reply.started": "2024-07-24T19:42:38.031752Z",
          "shell.execute_reply": "2024-07-24T19:43:25.042787Z"
        },
        "trusted": true,
        "id": "A8YYn2MOszoY"
      },
      "execution_count": null,
      "outputs": []
    },
    {
      "cell_type": "markdown",
      "source": [
        "---\n",
        "## 3. CONFIGURATION DU MODÈLE\n",
        "---"
      ],
      "metadata": {
        "id": "hNiTStyVszoY"
      }
    },
    {
      "cell_type": "markdown",
      "source": [
        "---\n",
        "### 3.1 DÉTERMINATION DE LA TAILLE DU VOCABULAIRE APPRIS\n",
        "---"
      ],
      "metadata": {
        "id": "AUSuYrKgszoY"
      }
    },
    {
      "cell_type": "markdown",
      "source": [
        "- Utiliser la méthode `get_vocabulary()` pour récupérer le vocabulaire appris par le tokenizer lors de la phase d'adaptation.\n",
        "- Calculer la longueur du vocabulaire en appliquant la fonction `len()`."
      ],
      "metadata": {
        "id": "DIiTV7pqszoY"
      }
    },
    {
      "cell_type": "code",
      "source": [
        "VOCAB_SIZE = len(tokenizer.get_vocabulary())\n",
        "VOCAB_SIZE"
      ],
      "metadata": {
        "execution": {
          "iopub.status.busy": "2024-07-24T19:43:25.045585Z",
          "iopub.execute_input": "2024-07-24T19:43:25.046004Z",
          "iopub.status.idle": "2024-07-24T19:43:29.147322Z",
          "shell.execute_reply.started": "2024-07-24T19:43:25.045971Z",
          "shell.execute_reply": "2024-07-24T19:43:29.146109Z"
        },
        "trusted": true,
        "id": "S4C5-7R4szoY",
        "outputId": "12177dfe-aa19-48d2-a2bc-fc5d6b769284",
        "colab": {
          "base_uri": "https://localhost:8080/"
        }
      },
      "execution_count": null,
      "outputs": [
        {
          "output_type": "execute_result",
          "data": {
            "text/plain": [
              "203653"
            ]
          },
          "metadata": {},
          "execution_count": 10
        }
      ]
    },
    {
      "cell_type": "code",
      "source": [
        "# tokenizer(train_dataset.text[:1]).numpy().tolist()"
      ],
      "metadata": {
        "execution": {
          "iopub.status.busy": "2024-07-24T19:43:29.149246Z",
          "iopub.execute_input": "2024-07-24T19:43:29.149696Z",
          "iopub.status.idle": "2024-07-24T19:43:29.154534Z",
          "shell.execute_reply.started": "2024-07-24T19:43:29.149646Z",
          "shell.execute_reply": "2024-07-24T19:43:29.153536Z"
        },
        "trusted": true,
        "id": "zlLhP8V0szoZ"
      },
      "execution_count": null,
      "outputs": []
    },
    {
      "cell_type": "markdown",
      "source": [
        "---\n",
        "### 3.2 DÉFINITION DE L'ARCHITECTURE DU MODÈLE POUR LE MÉCANISME DE RÉTENTION\n",
        "---"
      ],
      "metadata": {
        "id": "SyK9g-doszoZ"
      }
    },
    {
      "cell_type": "markdown",
      "source": [
        "1. Couche RecurrentRetention (RecurrentRetention) :\n",
        "  - Implémente un mécanisme de rétention récurrent utilisant trois couches de rétroaction pour la requête (Q), la clé (K) et la valeur (V).\n",
        "  - Les paramètres incluent input_size, Hidden_size, gamma et autres.\n",
        "  - Applique une opération de rétention dans la méthode d'appel, produisant une sortie et un état mis à jour.\n",
        "  \n",
        "\n",
        "2. Couche FeedForward (FeedForward) :\n",
        "  - Une simple couche de rétroaction utilisée dans le mécanisme de rétention.\n",
        "  - Les paramètres incluent d_model, dff, dropout_rate et activation.\n",
        "  \n",
        "\n",
        "3. Couche de rétention (rétention) :\n",
        "  - Implémente un mécanisme de rétention utilisant trois couches denses pour la requête (Q), la clé (K) et la valeur (V).\n",
        "  - Applique le calcul de la décroissance, les astuces de normalisation et une transformation finale dans la méthode d'appel.\n",
        "  \n",
        "\n",
        "4. Couche MultiScaleRetention (MultiScaleRetention) :\n",
        "  - Combine plusieurs têtes de rétention, chacune avec une valeur gamma différente.\n",
        "  - Utilise la normalisation de groupe, le déclenchement pondéré et une transformation linéaire finale.\n",
        "  \n",
        "\n",
        "5. Couche RetentionEncoder (RetentionEncoder) :\n",
        "  - Intègre les couches de normalisation des couches, de rétention multi-échelle et de rétroaction.\n",
        "  - Définit la passe avant (méthode d'appel) pour l'encodeur de rétention.\n",
        "\n",
        "\n",
        "6. Initialisation :\n",
        "  - Le RetentionEncoder est initialisé avec des paramètres tels que dim (dimension), hdim (dimension de tête) et un retention_layer personnalisé."
      ],
      "metadata": {
        "id": "DxVXZMGxszoZ"
      }
    },
    {
      "cell_type": "code",
      "source": [
        "import tensorflow as tf\n",
        "from tensorflow.keras import Sequential\n",
        "from tensorflow.keras.layers import Layer, LayerNormalization, GroupNormalization, Dense, SimpleRNNCell, RNN, LSTM, Bidirectional, LSTMCell\n",
        "import torch\n",
        "from itertools import repeat\n",
        "\n",
        "import tensorflow as tf\n",
        "from tensorflow.keras.layers import Layer, LayerNormalization, Dense, SimpleRNNCell, RNN, LSTM, Bidirectional, LSTMCell\n",
        "\n",
        "class RecurrentRetention(tf.compat.v1.nn.rnn_cell.RNNCell):\n",
        "    def __init__(self,\n",
        "                 input_size,\n",
        "                 hidden_size=32,\n",
        "                 gamma=0.984375,\n",
        "                 trainable=True,\n",
        "                 dtype=None,\n",
        "                 **kwargs):\n",
        "        super(RecurrentRetention, self).__init__(trainable=trainable,\n",
        "                                        dtype=dtype,\n",
        "                                        **kwargs)\n",
        "        self.input_size = input_size\n",
        "        self.hidden_size = hidden_size\n",
        "        self.r_layers = {\n",
        "            'Q' : Dense(hidden_size),\n",
        "            'K' : Dense(hidden_size),\n",
        "            'V' : Dense(hidden_size)\n",
        "        }\n",
        "\n",
        "        self.gamma = tf.Variable(gamma, trainable=True)\n",
        "\n",
        "    @property\n",
        "    def state_size(self):\n",
        "        return tf.TensorShape([self.hidden_size, self.hidden_size])\n",
        "\n",
        "    @property\n",
        "    def output_size(self):\n",
        "        return self.hidden_size\n",
        "\n",
        "    def call(self, inputs, state):\n",
        "      q, k, v = [tf.cast(f(inputs), tf.float32) for f in self.r_layers.values()]\n",
        "      s = self.gamma*state + tf.linalg.matmul(k, v, transpose_a=True)#tf.transpose(k, perm=[1, 0])@v\n",
        "      x = tf.einsum('bi, bzk -> bk', q, s)\n",
        "      return x, s\n",
        "\n",
        "\n",
        "class FeedForward(tf.keras.layers.Layer):\n",
        "  def __init__(self, d_model, dff, dropout_rate=0.3, activation='gelu'):\n",
        "    super().__init__()\n",
        "    self.seq = tf.keras.Sequential([\n",
        "      tf.keras.layers.Dense(dff, activation=activation),\n",
        "      tf.keras.layers.Dense(d_model),\n",
        "      tf.keras.layers.Dropout(dropout_rate)\n",
        "    ])\n",
        "\n",
        "  def call(self, x):\n",
        "    return self.seq(x)\n",
        "\n",
        "\n",
        "class Retention(Layer):\n",
        "    def __init__(self, dim=128, gamma = 0.9865, **kwargs):\n",
        "        super().__init__()\n",
        "        _dense_kwargs = {\n",
        "                \"use_bias\" : True,\n",
        "                \"dtype\" : \"float32\"\n",
        "                }\n",
        "        self._qkv_layers = [Dense(dim, **_dense_kwargs),\n",
        "                            Dense(dim, **_dense_kwargs),\n",
        "                            Dense(dim, **_dense_kwargs)]\n",
        "        self.gamma = gamma\n",
        "\n",
        "    def call(self, x, training=False):\n",
        "        Q, K, V = [f(z) for f, z in zip(self._qkv_layers, x)]\n",
        "        _, s, d = Q.shape\n",
        "        #b = b if b is not None else 1\n",
        "        x = Q@tf.transpose(K, perm=[0, 2, 1])\n",
        "        x /= d**0.5 #Normalization Trick 1\n",
        "        D = self._compute_decay(s, self.gamma)\n",
        "        D /= tf.reduce_sum(D, -1)**0.5 #Normalization Trick 2\n",
        "        #D = tf.stack([*repeat(D, b)])\n",
        "        x = x*D\n",
        "        _norm_3 = lambda xs: xs/tf.maximum(tf.abs(tf.math.reduce_sum(xs, -1)), 1)\n",
        "        x = tf.vectorized_map(_norm_3, x) #Normalization Trick 3\n",
        "        x = x@V\n",
        "        return x\n",
        "\n",
        "    def _compute_decay(self, seq_len, gamma = 0.96875):\n",
        "        _indices = list(range(0, seq_len))\n",
        "        _decay_factors = [gamma**(i-j) if i>=j else 0 for i in _indices for j in _indices]\n",
        "        D = tf.reshape(tf.convert_to_tensor(_decay_factors, dtype='float32'), (seq_len, seq_len))\n",
        "        #mask = tf.eye(seq_len, dtype=tf.float32)\n",
        "        #mask += tf.roll(mask, shift=-1, axis=-1)+tf.roll(mask, shift=-2, axis=-1)\n",
        "        return D#*mask\n",
        "\n",
        "class MultiScaleRetention(Layer):\n",
        "    def __init__(self, dim, hdim=100, retention_layer=Retention, **kwargs):\n",
        "      super(MultiScaleRetention, self).__init__()\n",
        "      gamma = 1 - (2 ** (-5 - torch.arange(0, dim//hdim).float()))\n",
        "      gamma = gamma.numpy().tolist()\n",
        "      self.dim = dim\n",
        "      self.hdim = hdim\n",
        "      self.heads = [retention_layer(dim=hdim, gamma=gamma[head], **kwargs) for head in range(dim // hdim)]#\n",
        "      self.gn = GroupNormalization(dim)#//hdim, scale=False)\n",
        "      self.wg = Sequential([\n",
        "            Dense(dim, use_bias=True, activation = 'swish', **kwargs),\n",
        "        ])\n",
        "      self.wo = Dense(dim, use_bias=True, **kwargs)\n",
        "\n",
        "    def call(self, q, k, v):\n",
        "      W = self.wg(q)\n",
        "      #q, k, v = list(map(lambda val: tf.split(val, self.dim//self.hdim, 2), x))\n",
        "      x = [headi([q, k, v]) for headi in self.heads]\n",
        "      x = tf.concat(x, -1)\n",
        "      Y = self.gn(x)\n",
        "      x = self.wo(W * Y)\n",
        "      return x\n",
        "\n",
        "class RetentionEncoder(Layer):\n",
        "    def __init__(self, dim=540, hdim=100, retention_layer=Retention, **kwargs):\n",
        "        super().__init__()\n",
        "        self.layer_norm = LayerNormalization()\n",
        "        self.msr = MultiScaleRetention(dim, hdim, retention_layer=retention_layer)\n",
        "        self.layer_norm1 = LayerNormalization()\n",
        "        self.ffn = FeedForward(dim, dim*4)\n",
        "\n",
        "    def call(self, x, training=False):\n",
        "      xn = self.layer_norm(x)\n",
        "      msr_x = self.msr(xn, xn, xn) + x\n",
        "      x = self.ffn(self.layer_norm1(msr_x)) + msr_x\n",
        "      return x"
      ],
      "metadata": {
        "execution": {
          "iopub.status.busy": "2024-07-24T19:43:29.156339Z",
          "iopub.execute_input": "2024-07-24T19:43:29.156757Z",
          "iopub.status.idle": "2024-07-24T19:43:32.545811Z",
          "shell.execute_reply.started": "2024-07-24T19:43:29.156727Z",
          "shell.execute_reply": "2024-07-24T19:43:32.544621Z"
        },
        "trusted": true,
        "id": "mThRXZFsszoZ"
      },
      "execution_count": null,
      "outputs": []
    },
    {
      "cell_type": "markdown",
      "source": [
        "---\n",
        "### 3.3 INITIALISER UNE STRATÉGIE EN MIROIR\n",
        "---"
      ],
      "metadata": {
        "id": "8OOLfvNPszoZ"
      }
    },
    {
      "cell_type": "markdown",
      "source": [
        "- Création d'une instance de '*MirroredStrategy*' nommée '*strategy*'.\n",
        "- MirroredStrategy est conçu pour la formation synchrone sur plusieurs GPU en répliquant toutes les variables et calculs du modèle sur chaque GPU disponible."
      ],
      "metadata": {
        "id": "oRK9yMwOszof"
      }
    },
    {
      "cell_type": "code",
      "source": [
        "strategy = tf.distribute.MirroredStrategy()"
      ],
      "metadata": {
        "execution": {
          "iopub.status.busy": "2024-07-24T19:43:32.547816Z",
          "iopub.execute_input": "2024-07-24T19:43:32.548881Z",
          "iopub.status.idle": "2024-07-24T19:43:32.558855Z",
          "shell.execute_reply.started": "2024-07-24T19:43:32.548845Z",
          "shell.execute_reply": "2024-07-24T19:43:32.557552Z"
        },
        "trusted": true,
        "id": "AgVhWqKTszof"
      },
      "execution_count": null,
      "outputs": []
    },
    {
      "cell_type": "markdown",
      "source": [
        "---\n",
        "### 3.4 CONFIGURATION DU MODÈLE\n",
        "---"
      ],
      "metadata": {
        "id": "MNNjZyufszog"
      }
    },
    {
      "cell_type": "markdown",
      "source": [
        "- Création d'un modèle d'emballage pour utiliser la MirroredStrategy précédemment - définie pour la formation distribuée.\n",
        "- Définir la couche d'entrée avec une forme de (512,).\n",
        "- Application d'une couche d'intégration pour convertir les jetons d'entrée en vecteurs denses.\n",
        "- Utilisation d'une couche séquentielle avec RetentionEncoder répétée une fois pour l'extraction de fonctionnalités.\n",
        "- Application d'une couche d'abandon pour introduire la régularisation et éviter le surajustement.\n",
        "- Aplatir la sortie pour les couches denses suivantes.\n",
        "- Ajout d'une couche dense avec une activation sigmoïde pour la classification binaire.\n",
        "- Création du modèle final en spécifiant les couches d'entrée et de sortie.\n",
        "- Compilation du modèle avec un optimiseur Adam, une perte de crossentropie focale binaire et plusieurs métriques d'évaluation."
      ],
      "metadata": {
        "id": "dyZN0xpPszog"
      }
    },
    {
      "cell_type": "code",
      "source": [
        "from tensorflow.keras import Model, Sequential\n",
        "from tensorflow.keras.layers import Input, Embedding, Dense, Flatten, Softmax, Dropout\n",
        "from itertools import repeat\n",
        "\n",
        "with strategy.scope():\n",
        "    inputs = Input((512, ))\n",
        "    x = Embedding(len(tokenizer.get_vocabulary()), 32)(inputs)\n",
        "    x = Sequential([*repeat(RetentionEncoder(32, 32//2), 1)])(x)#RNN(RecurrentRetention(32, 32))(x)\n",
        "    z = Dropout(0.5)(x)\n",
        "    x = Flatten()(x)\n",
        "    x = Dense(1, activation='sigmoid')(x)\n",
        "    model = Model(inputs=inputs, outputs=x)\n",
        "\n",
        "    model.compile(\n",
        "              optimizer=tf.keras.optimizers.Adam(learning_rate=5e-4, weight_decay=0.1, clipvalue=3),\n",
        "              loss=tf.keras.losses.BinaryFocalCrossentropy(apply_class_balancing=True, label_smoothing=0.1),\n",
        "              metrics=[tf.keras.metrics.BinaryAccuracy(),\n",
        "                      tf.keras.metrics.AUC(),\n",
        "                      tf.keras.metrics.Recall(),\n",
        "                      tf.keras.metrics.Precision()],\n",
        "          )"
      ],
      "metadata": {
        "execution": {
          "iopub.status.busy": "2024-07-24T19:43:32.560497Z",
          "iopub.execute_input": "2024-07-24T19:43:32.56089Z",
          "iopub.status.idle": "2024-07-24T19:44:03.016883Z",
          "shell.execute_reply.started": "2024-07-24T19:43:32.560857Z",
          "shell.execute_reply": "2024-07-24T19:44:03.015886Z"
        },
        "trusted": true,
        "id": "uzShXAZLszog"
      },
      "execution_count": null,
      "outputs": []
    },
    {
      "cell_type": "markdown",
      "source": [
        "---\n",
        "## 4. FORMATION DE MODÈLE\n",
        "---"
      ],
      "metadata": {
        "id": "D4xpPaWZszog"
      }
    },
    {
      "cell_type": "markdown",
      "source": [
        "---\n",
        "### 4.1 MODÈLE DE FORMATION SUR PLUSIEURS GPU\n",
        "---"
      ],
      "metadata": {
        "id": "cLGtcwpXszog"
      }
    },
    {
      "cell_type": "markdown",
      "source": [
        "- Création d'un ensemble de données TensorFlow à partir des données d'entrée, tokenisation du texte et traitement par lots avec des étiquettes.\n",
        "- Mélanger l'ensemble de données pour introduire du caractère aléatoire dans la formation de chaque époque.\n",
        "- Diviser l'ensemble de données en ensembles de formation (train_split) et de validation (val_split).\n",
        "- Utiliser la méthode model.fit pour entraîner le modèle sur l'ensemble d'entraînement (train_split), valider sur l'ensemble de validation (val_split) et spécifier le nombre d'époques et la taille du lot.\n",
        "- L'historique de formation est collecté dans la liste des historiques."
      ],
      "metadata": {
        "id": "_TM2HOd9szoh"
      }
    },
    {
      "cell_type": "code",
      "source": [
        "histories = []\n",
        "with strategy.scope():\n",
        "    ds = tf.data.Dataset.from_tensor_slices((train_dataset.text, train_dataset.label)).batch(128).map(lambda x, y: (tokenizer(x), y))\n",
        "    ds = ds.shuffle(ds.cardinality())\n",
        "    train_split = ds.take(int(len(ds)*0.8))\n",
        "    val_split = ds.skip(int(len(ds)*0.8)).take(int(len(ds)*0.2))\n",
        "    histories = model.fit(train_split, validation_data=[val_split], epochs=1, batch_size=128)"
      ],
      "metadata": {
        "execution": {
          "iopub.status.busy": "2024-07-24T19:44:03.020471Z",
          "iopub.execute_input": "2024-07-24T19:44:03.020844Z",
          "iopub.status.idle": "2024-07-24T20:33:47.41233Z",
          "shell.execute_reply.started": "2024-07-24T19:44:03.02081Z",
          "shell.execute_reply": "2024-07-24T20:33:47.411337Z"
        },
        "trusted": true,
        "id": "rpzDL2KNszoh",
        "outputId": "4cc85c0b-2bbe-436c-9f9e-beee4872bea8",
        "colab": {
          "base_uri": "https://localhost:8080/"
        }
      },
      "execution_count": null,
      "outputs": [
        {
          "output_type": "stream",
          "name": "stdout",
          "text": [
            "1753/1753 [==============================] - 6564s 4s/step - loss: 0.0152 - binary_accuracy: 0.9648 - auc: 0.9861 - recall: 0.9102 - precision: 0.9657 - val_loss: 0.0074 - val_binary_accuracy: 0.9822 - val_auc: 0.9979 - val_recall: 0.9398 - val_precision: 0.9975\n"
          ]
        }
      ]
    },
    {
      "cell_type": "markdown",
      "source": [
        "---\n",
        "### 4.2 LECTURE DES DONNÉES\n",
        "---"
      ],
      "metadata": {
        "id": "z3ZYBVt8szoh"
      }
    },
    {
      "cell_type": "markdown",
      "source": [
        "- Reading the CSV file located at '../input/llm-detect-ai-generated-text/test_essays.csv'."
      ],
      "metadata": {
        "id": "uocCINposzoh"
      }
    },
    {
      "cell_type": "code",
      "source": [
        "test = read_csv('../input/llm-detect-ai-generated-text/test_essays.csv', sep=',')"
      ],
      "metadata": {
        "execution": {
          "iopub.status.busy": "2024-07-24T20:33:47.414292Z",
          "iopub.execute_input": "2024-07-24T20:33:47.414644Z",
          "iopub.status.idle": "2024-07-24T20:33:47.429775Z",
          "shell.execute_reply.started": "2024-07-24T20:33:47.414614Z",
          "shell.execute_reply": "2024-07-24T20:33:47.428462Z"
        },
        "trusted": true,
        "id": "APZz0Bwtszoh"
      },
      "execution_count": null,
      "outputs": []
    },
    {
      "cell_type": "markdown",
      "source": [
        "---\n",
        "## 5. INFÉRENCE DU MODÈLE\n",
        "---"
      ],
      "metadata": {
        "id": "EvM85Ereszoh"
      }
    },
    {
      "cell_type": "markdown",
      "source": [
        "### 5.1 UTILISER UN MODÈLE FORMÉ POUR FAIRE DES PRÉVISIONS"
      ],
      "metadata": {
        "id": "izUnwAidszoh"
      }
    },
    {
      "cell_type": "markdown",
      "source": [
        "- Encapsuler le processus de prédiction dans Strategy.scope() pour tirer parti de la stratégie de formation distribuée spécifiée.\n",
        "- Création d'un jeu de données TensorFlow à partir des données de test (test.text).\n",
        "- Regrouper et tokeniser les données texte à l'aide du tokenizer du modèle.\n",
        "- Utiliser la méthode model.predict pour obtenir des prédictions pour les données de test.\n",
        "- La variable générée résultante contient les prédictions du modèle pour une analyse ou une évaluation plus approfondie."
      ],
      "metadata": {
        "id": "WuJTDzJwszoh"
      }
    },
    {
      "cell_type": "code",
      "source": [
        "with strategy.scope():\n",
        "    generated = model.predict(tf.data.Dataset.from_tensor_slices((test.text)).batch(128).map(lambda x: tokenizer(x)))"
      ],
      "metadata": {
        "execution": {
          "iopub.status.busy": "2024-07-24T20:33:47.431257Z",
          "iopub.execute_input": "2024-07-24T20:33:47.431609Z",
          "iopub.status.idle": "2024-07-24T20:34:00.851715Z",
          "shell.execute_reply.started": "2024-07-24T20:33:47.431581Z",
          "shell.execute_reply": "2024-07-24T20:34:00.850564Z"
        },
        "trusted": true,
        "id": "_iXmZd0Eszoi",
        "outputId": "af8b47ff-2c26-4b5a-917e-ec85c1e13bd2",
        "colab": {
          "base_uri": "https://localhost:8080/"
        }
      },
      "execution_count": null,
      "outputs": [
        {
          "output_type": "stream",
          "name": "stdout",
          "text": [
            "1/1 [==============================] - 10s 10s/step\n"
          ]
        }
      ]
    },
    {
      "cell_type": "markdown",
      "source": [
        "---\n",
        "## 6.TRAITEMENT POST-INFÉRENCE\n",
        "---"
      ],
      "metadata": {
        "id": "p61ma1Vhszoi"
      }
    },
    {
      "cell_type": "markdown",
      "source": [
        "---\n",
        "### 6.1 STOCKAGE DES PRÉVISIONS\n",
        "---"
      ],
      "metadata": {
        "id": "2JnBRVS4szoi"
      }
    },
    {
      "cell_type": "markdown",
      "source": [
        "- Les valeurs de la colonne \"générées\" sont remplies avec les prédictions obtenues à partir du modèle."
      ],
      "metadata": {
        "id": "b_uFX4Idszoi"
      }
    },
    {
      "cell_type": "code",
      "source": [
        "test['generated'] = generated"
      ],
      "metadata": {
        "execution": {
          "iopub.status.busy": "2024-07-24T20:34:00.853604Z",
          "iopub.execute_input": "2024-07-24T20:34:00.854028Z",
          "iopub.status.idle": "2024-07-24T20:34:00.86075Z",
          "shell.execute_reply.started": "2024-07-24T20:34:00.853989Z",
          "shell.execute_reply": "2024-07-24T20:34:00.859675Z"
        },
        "trusted": true,
        "id": "xMU9oXwlszoi"
      },
      "execution_count": null,
      "outputs": []
    },
    {
      "cell_type": "markdown",
      "source": [
        "---\n",
        "### 6.2 MODIFICATION DU DATAFRAME DE TEST\n",
        "---"
      ],
      "metadata": {
        "id": "jI57Vnaaszoi"
      }
    },
    {
      "cell_type": "markdown",
      "source": [
        "- Les colonnes 'prompt_id' et 'text' sont supprimées du DataFrame.\n",
        "- L'index du DataFrame est réinitialisé après la suppression des colonnes."
      ],
      "metadata": {
        "id": "7m6V3Wqqszoj"
      }
    },
    {
      "cell_type": "code",
      "source": [
        "test = test.drop(['prompt_id', 'text'], axis=1).reset_index(drop=True)"
      ],
      "metadata": {
        "execution": {
          "iopub.status.busy": "2024-07-24T20:34:00.862195Z",
          "iopub.execute_input": "2024-07-24T20:34:00.862515Z",
          "iopub.status.idle": "2024-07-24T20:34:00.878069Z",
          "shell.execute_reply.started": "2024-07-24T20:34:00.862489Z",
          "shell.execute_reply": "2024-07-24T20:34:00.877057Z"
        },
        "trusted": true,
        "id": "Nm5un4d4szoj"
      },
      "execution_count": null,
      "outputs": []
    },
    {
      "cell_type": "markdown",
      "source": [
        "---\n",
        "### 6.2 REGARDER L'ENSEMBLE DE DONNÉES\n",
        "---"
      ],
      "metadata": {
        "id": "PDlvXpe_szoj"
      }
    },
    {
      "cell_type": "code",
      "source": [
        "test.head()"
      ],
      "metadata": {
        "execution": {
          "iopub.status.busy": "2024-07-24T20:34:00.879623Z",
          "iopub.execute_input": "2024-07-24T20:34:00.880027Z",
          "iopub.status.idle": "2024-07-24T20:34:00.89496Z",
          "shell.execute_reply.started": "2024-07-24T20:34:00.87999Z",
          "shell.execute_reply": "2024-07-24T20:34:00.893915Z"
        },
        "trusted": true,
        "id": "oP0sd6Wiszoj",
        "outputId": "c53d0699-0bd6-4e7b-d8e8-5aaa834f68e6",
        "colab": {
          "base_uri": "https://localhost:8080/",
          "height": 143
        }
      },
      "execution_count": null,
      "outputs": [
        {
          "output_type": "execute_result",
          "data": {
            "text/plain": [
              "         id  generated\n",
              "0  0000aaaa   0.854861\n",
              "1  1111bbbb   0.854861\n",
              "2  2222cccc   0.854861"
            ],
            "text/html": [
              "\n",
              "  <div id=\"df-53cde2d2-43d7-4a16-bb12-5248ea063d52\" class=\"colab-df-container\">\n",
              "    <div>\n",
              "<style scoped>\n",
              "    .dataframe tbody tr th:only-of-type {\n",
              "        vertical-align: middle;\n",
              "    }\n",
              "\n",
              "    .dataframe tbody tr th {\n",
              "        vertical-align: top;\n",
              "    }\n",
              "\n",
              "    .dataframe thead th {\n",
              "        text-align: right;\n",
              "    }\n",
              "</style>\n",
              "<table border=\"1\" class=\"dataframe\">\n",
              "  <thead>\n",
              "    <tr style=\"text-align: right;\">\n",
              "      <th></th>\n",
              "      <th>id</th>\n",
              "      <th>generated</th>\n",
              "    </tr>\n",
              "  </thead>\n",
              "  <tbody>\n",
              "    <tr>\n",
              "      <th>0</th>\n",
              "      <td>0000aaaa</td>\n",
              "      <td>0.854861</td>\n",
              "    </tr>\n",
              "    <tr>\n",
              "      <th>1</th>\n",
              "      <td>1111bbbb</td>\n",
              "      <td>0.854861</td>\n",
              "    </tr>\n",
              "    <tr>\n",
              "      <th>2</th>\n",
              "      <td>2222cccc</td>\n",
              "      <td>0.854861</td>\n",
              "    </tr>\n",
              "  </tbody>\n",
              "</table>\n",
              "</div>\n",
              "    <div class=\"colab-df-buttons\">\n",
              "\n",
              "  <div class=\"colab-df-container\">\n",
              "    <button class=\"colab-df-convert\" onclick=\"convertToInteractive('df-53cde2d2-43d7-4a16-bb12-5248ea063d52')\"\n",
              "            title=\"Convert this dataframe to an interactive table.\"\n",
              "            style=\"display:none;\">\n",
              "\n",
              "  <svg xmlns=\"http://www.w3.org/2000/svg\" height=\"24px\" viewBox=\"0 -960 960 960\">\n",
              "    <path d=\"M120-120v-720h720v720H120Zm60-500h600v-160H180v160Zm220 220h160v-160H400v160Zm0 220h160v-160H400v160ZM180-400h160v-160H180v160Zm440 0h160v-160H620v160ZM180-180h160v-160H180v160Zm440 0h160v-160H620v160Z\"/>\n",
              "  </svg>\n",
              "    </button>\n",
              "\n",
              "  <style>\n",
              "    .colab-df-container {\n",
              "      display:flex;\n",
              "      gap: 12px;\n",
              "    }\n",
              "\n",
              "    .colab-df-convert {\n",
              "      background-color: #E8F0FE;\n",
              "      border: none;\n",
              "      border-radius: 50%;\n",
              "      cursor: pointer;\n",
              "      display: none;\n",
              "      fill: #1967D2;\n",
              "      height: 32px;\n",
              "      padding: 0 0 0 0;\n",
              "      width: 32px;\n",
              "    }\n",
              "\n",
              "    .colab-df-convert:hover {\n",
              "      background-color: #E2EBFA;\n",
              "      box-shadow: 0px 1px 2px rgba(60, 64, 67, 0.3), 0px 1px 3px 1px rgba(60, 64, 67, 0.15);\n",
              "      fill: #174EA6;\n",
              "    }\n",
              "\n",
              "    .colab-df-buttons div {\n",
              "      margin-bottom: 4px;\n",
              "    }\n",
              "\n",
              "    [theme=dark] .colab-df-convert {\n",
              "      background-color: #3B4455;\n",
              "      fill: #D2E3FC;\n",
              "    }\n",
              "\n",
              "    [theme=dark] .colab-df-convert:hover {\n",
              "      background-color: #434B5C;\n",
              "      box-shadow: 0px 1px 3px 1px rgba(0, 0, 0, 0.15);\n",
              "      filter: drop-shadow(0px 1px 2px rgba(0, 0, 0, 0.3));\n",
              "      fill: #FFFFFF;\n",
              "    }\n",
              "  </style>\n",
              "\n",
              "    <script>\n",
              "      const buttonEl =\n",
              "        document.querySelector('#df-53cde2d2-43d7-4a16-bb12-5248ea063d52 button.colab-df-convert');\n",
              "      buttonEl.style.display =\n",
              "        google.colab.kernel.accessAllowed ? 'block' : 'none';\n",
              "\n",
              "      async function convertToInteractive(key) {\n",
              "        const element = document.querySelector('#df-53cde2d2-43d7-4a16-bb12-5248ea063d52');\n",
              "        const dataTable =\n",
              "          await google.colab.kernel.invokeFunction('convertToInteractive',\n",
              "                                                    [key], {});\n",
              "        if (!dataTable) return;\n",
              "\n",
              "        const docLinkHtml = 'Like what you see? Visit the ' +\n",
              "          '<a target=\"_blank\" href=https://colab.research.google.com/notebooks/data_table.ipynb>data table notebook</a>'\n",
              "          + ' to learn more about interactive tables.';\n",
              "        element.innerHTML = '';\n",
              "        dataTable['output_type'] = 'display_data';\n",
              "        await google.colab.output.renderOutput(dataTable, element);\n",
              "        const docLink = document.createElement('div');\n",
              "        docLink.innerHTML = docLinkHtml;\n",
              "        element.appendChild(docLink);\n",
              "      }\n",
              "    </script>\n",
              "  </div>\n",
              "\n",
              "\n",
              "<div id=\"df-185bddcd-7eb2-48a9-abdf-da4b45300d7e\">\n",
              "  <button class=\"colab-df-quickchart\" onclick=\"quickchart('df-185bddcd-7eb2-48a9-abdf-da4b45300d7e')\"\n",
              "            title=\"Suggest charts\"\n",
              "            style=\"display:none;\">\n",
              "\n",
              "<svg xmlns=\"http://www.w3.org/2000/svg\" height=\"24px\"viewBox=\"0 0 24 24\"\n",
              "     width=\"24px\">\n",
              "    <g>\n",
              "        <path d=\"M19 3H5c-1.1 0-2 .9-2 2v14c0 1.1.9 2 2 2h14c1.1 0 2-.9 2-2V5c0-1.1-.9-2-2-2zM9 17H7v-7h2v7zm4 0h-2V7h2v10zm4 0h-2v-4h2v4z\"/>\n",
              "    </g>\n",
              "</svg>\n",
              "  </button>\n",
              "\n",
              "<style>\n",
              "  .colab-df-quickchart {\n",
              "      --bg-color: #E8F0FE;\n",
              "      --fill-color: #1967D2;\n",
              "      --hover-bg-color: #E2EBFA;\n",
              "      --hover-fill-color: #174EA6;\n",
              "      --disabled-fill-color: #AAA;\n",
              "      --disabled-bg-color: #DDD;\n",
              "  }\n",
              "\n",
              "  [theme=dark] .colab-df-quickchart {\n",
              "      --bg-color: #3B4455;\n",
              "      --fill-color: #D2E3FC;\n",
              "      --hover-bg-color: #434B5C;\n",
              "      --hover-fill-color: #FFFFFF;\n",
              "      --disabled-bg-color: #3B4455;\n",
              "      --disabled-fill-color: #666;\n",
              "  }\n",
              "\n",
              "  .colab-df-quickchart {\n",
              "    background-color: var(--bg-color);\n",
              "    border: none;\n",
              "    border-radius: 50%;\n",
              "    cursor: pointer;\n",
              "    display: none;\n",
              "    fill: var(--fill-color);\n",
              "    height: 32px;\n",
              "    padding: 0;\n",
              "    width: 32px;\n",
              "  }\n",
              "\n",
              "  .colab-df-quickchart:hover {\n",
              "    background-color: var(--hover-bg-color);\n",
              "    box-shadow: 0 1px 2px rgba(60, 64, 67, 0.3), 0 1px 3px 1px rgba(60, 64, 67, 0.15);\n",
              "    fill: var(--button-hover-fill-color);\n",
              "  }\n",
              "\n",
              "  .colab-df-quickchart-complete:disabled,\n",
              "  .colab-df-quickchart-complete:disabled:hover {\n",
              "    background-color: var(--disabled-bg-color);\n",
              "    fill: var(--disabled-fill-color);\n",
              "    box-shadow: none;\n",
              "  }\n",
              "\n",
              "  .colab-df-spinner {\n",
              "    border: 2px solid var(--fill-color);\n",
              "    border-color: transparent;\n",
              "    border-bottom-color: var(--fill-color);\n",
              "    animation:\n",
              "      spin 1s steps(1) infinite;\n",
              "  }\n",
              "\n",
              "  @keyframes spin {\n",
              "    0% {\n",
              "      border-color: transparent;\n",
              "      border-bottom-color: var(--fill-color);\n",
              "      border-left-color: var(--fill-color);\n",
              "    }\n",
              "    20% {\n",
              "      border-color: transparent;\n",
              "      border-left-color: var(--fill-color);\n",
              "      border-top-color: var(--fill-color);\n",
              "    }\n",
              "    30% {\n",
              "      border-color: transparent;\n",
              "      border-left-color: var(--fill-color);\n",
              "      border-top-color: var(--fill-color);\n",
              "      border-right-color: var(--fill-color);\n",
              "    }\n",
              "    40% {\n",
              "      border-color: transparent;\n",
              "      border-right-color: var(--fill-color);\n",
              "      border-top-color: var(--fill-color);\n",
              "    }\n",
              "    60% {\n",
              "      border-color: transparent;\n",
              "      border-right-color: var(--fill-color);\n",
              "    }\n",
              "    80% {\n",
              "      border-color: transparent;\n",
              "      border-right-color: var(--fill-color);\n",
              "      border-bottom-color: var(--fill-color);\n",
              "    }\n",
              "    90% {\n",
              "      border-color: transparent;\n",
              "      border-bottom-color: var(--fill-color);\n",
              "    }\n",
              "  }\n",
              "</style>\n",
              "\n",
              "  <script>\n",
              "    async function quickchart(key) {\n",
              "      const quickchartButtonEl =\n",
              "        document.querySelector('#' + key + ' button');\n",
              "      quickchartButtonEl.disabled = true;  // To prevent multiple clicks.\n",
              "      quickchartButtonEl.classList.add('colab-df-spinner');\n",
              "      try {\n",
              "        const charts = await google.colab.kernel.invokeFunction(\n",
              "            'suggestCharts', [key], {});\n",
              "      } catch (error) {\n",
              "        console.error('Error during call to suggestCharts:', error);\n",
              "      }\n",
              "      quickchartButtonEl.classList.remove('colab-df-spinner');\n",
              "      quickchartButtonEl.classList.add('colab-df-quickchart-complete');\n",
              "    }\n",
              "    (() => {\n",
              "      let quickchartButtonEl =\n",
              "        document.querySelector('#df-185bddcd-7eb2-48a9-abdf-da4b45300d7e button');\n",
              "      quickchartButtonEl.style.display =\n",
              "        google.colab.kernel.accessAllowed ? 'block' : 'none';\n",
              "    })();\n",
              "  </script>\n",
              "</div>\n",
              "\n",
              "    </div>\n",
              "  </div>\n"
            ],
            "application/vnd.google.colaboratory.intrinsic+json": {
              "type": "dataframe",
              "variable_name": "test",
              "summary": "{\n  \"name\": \"test\",\n  \"rows\": 3,\n  \"fields\": [\n    {\n      \"column\": \"id\",\n      \"properties\": {\n        \"dtype\": \"string\",\n        \"num_unique_values\": 3,\n        \"samples\": [\n          \"0000aaaa\",\n          \"1111bbbb\",\n          \"2222cccc\"\n        ],\n        \"semantic_type\": \"\",\n        \"description\": \"\"\n      }\n    },\n    {\n      \"column\": \"generated\",\n      \"properties\": {\n        \"dtype\": \"float32\",\n        \"num_unique_values\": 1,\n        \"samples\": [\n          0.8548610806465149\n        ],\n        \"semantic_type\": \"\",\n        \"description\": \"\"\n      }\n    }\n  ]\n}"
            }
          },
          "metadata": {},
          "execution_count": 20
        }
      ]
    },
    {
      "cell_type": "markdown",
      "source": [
        "---\n",
        "## 7. SOUMISSION\n",
        "---"
      ],
      "metadata": {
        "id": "Qlx315lLszoj"
      }
    },
    {
      "cell_type": "code",
      "source": [
        "test.to_csv('submission.csv', index=False)"
      ],
      "metadata": {
        "execution": {
          "iopub.status.busy": "2024-07-24T20:34:00.896241Z",
          "iopub.execute_input": "2024-07-24T20:34:00.89658Z",
          "iopub.status.idle": "2024-07-24T20:34:00.90695Z",
          "shell.execute_reply.started": "2024-07-24T20:34:00.896551Z",
          "shell.execute_reply": "2024-07-24T20:34:00.905997Z"
        },
        "trusted": true,
        "id": "GsPnfWGWszoj"
      },
      "execution_count": null,
      "outputs": []
    }
  ]
}